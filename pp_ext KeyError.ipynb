{
 "cells": [
  {
   "cell_type": "code",
   "execution_count": 3,
   "metadata": {
    "ExecuteTime": {
     "end_time": "2016-09-23T22:13:20.963000",
     "start_time": "2016-09-23T22:13:20.923000"
    },
    "collapsed": true
   },
   "outputs": [],
   "source": [
    "# %load trivial.py\n",
    "# pandas does not come by default with PsychoPy but that should not prevent\n",
    "# people from running the experiment\n",
    "try:\n",
    "    import pandas\n",
    "except:\n",
    "    pass\n",
    "\n",
    "from psychopy import visual, event\n",
    "from psychopy_ext import exp\n",
    "\n",
    "# some modules are only available in Python 2.6\n",
    "try:\n",
    "    from collections import OrderedDict\n",
    "except:\n",
    "    from exp import OrderedDict\n",
    "\n",
    "\n",
    "import computer\n",
    "PATHS = exp.set_paths('trivial', computer)\n",
    "\n",
    "class Exp1(exp.Experiment):\n",
    "    \"\"\"\n",
    "    Instructions (in reST format)\n",
    "    =============================\n",
    "\n",
    "    **Hit 'j'** to advance to the next trial, *Left-Shift + Esc* to exit.\n",
    "    \"\"\"\n",
    "    def __init__(self,\n",
    "                 name='exp',\n",
    "                 info=OrderedDict([('subjid', 'quick_'),\n",
    "                                  ('session', 1),\n",
    "                                  ]),\n",
    "                 rp=None,\n",
    "                 actions='run'\n",
    "                 ):\n",
    "        super(Exp1, self).__init__(name=name, info=info,\n",
    "                rp=rp, actions=actions,\n",
    "                paths=PATHS, computer=computer)\n",
    "\n",
    "        # user-defined parameters\n",
    "        self.ntrials = 8\n",
    "        self.stimsize = 2  # in deg\n",
    "\n",
    "    def create_stimuli(self):\n",
    "        \"\"\"Define your stimuli here, store them in self.s\n",
    "        \"\"\"\n",
    "        self.create_fixation()\n",
    "        self.s = {}\n",
    "        self.s['fix']= self.fixation\n",
    "        self.s['stim'] = visual.GratingStim(self.win, mask='gauss',\n",
    "                                            size=self.stimsize)\n",
    "\n",
    "    def create_trial(self):\n",
    "        \"\"\"Define trial composition\n",
    "        \"\"\"\n",
    "        self.trial = [exp.Event(self,\n",
    "                                dur=.200,  # in seconds\n",
    "                                display=[self.s['stim'], self.s['fix']],\n",
    "                                func=self.idle_event),\n",
    "                      exp.Event(self,\n",
    "                                dur=0,\n",
    "                                display=self.s['fix'],\n",
    "                                func=self.crashing_wait_event)\n",
    "                     ]\n",
    "\n",
    "    def create_exp_plan(self):\n",
    "        \"\"\"Put together trials\n",
    "        \"\"\"\n",
    "        exp_plan = []\n",
    "        for trialno in range(self.ntrials):\n",
    "            exp_plan.append(OrderedDict([\n",
    "                        ('trialno', trialno),\n",
    "                        ('onset', ''),  # empty ones will be filled up\n",
    "                        ('dur', ''),    # during runtime\n",
    "                        ('corr_resp', 1),\n",
    "                        ('subj_resp', ''),\n",
    "                        ('accuracy', ''),\n",
    "                        ('rt', ''),\n",
    "                        ]))\n",
    "        self.exp_plan = exp_plan\n",
    "        \n",
    "    def crashing_wait_event(self):\n",
    "        \"\"\"Crashes when non-valid key is pressed\n",
    "        \"\"\"\n",
    "        self.before_event()\n",
    "        key = event.waitKeys()\n",
    "        return key"
   ]
  },
  {
   "cell_type": "code",
   "execution_count": 4,
   "metadata": {
    "ExecuteTime": {
     "end_time": "2016-09-23T22:13:39.899000",
     "start_time": "2016-09-23T22:13:33.774000"
    },
    "collapsed": false
   },
   "outputs": [
    {
     "name": "stdout",
     "output_type": "stream",
     "text": [
      "\r",
      "trial 1"
     ]
    },
    {
     "ename": "KeyError",
     "evalue": "'i'",
     "output_type": "error",
     "traceback": [
      "\u001b[0;31m---------------------------------------------------------------------------\u001b[0m",
      "\u001b[0;31mKeyError\u001b[0m                                  Traceback (most recent call last)",
      "\u001b[0;32m<ipython-input-4-f459128f11aa>\u001b[0m in \u001b[0;36m<module>\u001b[0;34m()\u001b[0m\n\u001b[0;32m----> 1\u001b[0;31m \u001b[0mExp1\u001b[0m\u001b[1;33m(\u001b[0m\u001b[0mrp\u001b[0m\u001b[1;33m=\u001b[0m\u001b[1;33m{\u001b[0m\u001b[1;34m'no_output'\u001b[0m\u001b[1;33m:\u001b[0m\u001b[0mTrue\u001b[0m\u001b[1;33m,\u001b[0m \u001b[1;34m'debug'\u001b[0m\u001b[1;33m:\u001b[0m\u001b[0mTrue\u001b[0m\u001b[1;33m}\u001b[0m\u001b[1;33m)\u001b[0m\u001b[1;33m.\u001b[0m\u001b[0mrun\u001b[0m\u001b[1;33m(\u001b[0m\u001b[1;33m)\u001b[0m\u001b[1;33m\u001b[0m\u001b[0m\n\u001b[0m",
      "\u001b[0;32md:\\dropbox\\0-gitrepos\\psychopy_ext\\psychopy_ext\\exp.pyc\u001b[0m in \u001b[0;36mrun\u001b[0;34m(self)\u001b[0m\n\u001b[1;32m   1953\u001b[0m         \"\"\"Alias to :func:`~psychopy_ext.exp.Experiment.run_exp()`\n\u001b[1;32m   1954\u001b[0m         \"\"\"\n\u001b[0;32m-> 1955\u001b[0;31m         \u001b[0mself\u001b[0m\u001b[1;33m.\u001b[0m\u001b[0mrun_exp\u001b[0m\u001b[1;33m(\u001b[0m\u001b[1;33m)\u001b[0m\u001b[1;33m\u001b[0m\u001b[0m\n\u001b[0m\u001b[1;32m   1956\u001b[0m \u001b[1;33m\u001b[0m\u001b[0m\n\u001b[1;32m   1957\u001b[0m     \u001b[1;32mdef\u001b[0m \u001b[0mrun_exp\u001b[0m\u001b[1;33m(\u001b[0m\u001b[0mself\u001b[0m\u001b[1;33m)\u001b[0m\u001b[1;33m:\u001b[0m\u001b[1;33m\u001b[0m\u001b[0m\n",
      "\u001b[0;32md:\\dropbox\\0-gitrepos\\psychopy_ext\\psychopy_ext\\exp.pyc\u001b[0m in \u001b[0;36mrun_exp\u001b[0;34m(self)\u001b[0m\n\u001b[1;32m   1966\u001b[0m \u001b[1;33m\u001b[0m\u001b[0m\n\u001b[1;32m   1967\u001b[0m         \u001b[1;32mif\u001b[0m \u001b[0mlen\u001b[0m\u001b[1;33m(\u001b[0m\u001b[0mself\u001b[0m\u001b[1;33m.\u001b[0m\u001b[0mtasks\u001b[0m\u001b[1;33m)\u001b[0m \u001b[1;33m==\u001b[0m \u001b[1;36m0\u001b[0m\u001b[1;33m:\u001b[0m\u001b[1;33m\u001b[0m\u001b[0m\n\u001b[0;32m-> 1968\u001b[0;31m             \u001b[0mself\u001b[0m\u001b[1;33m.\u001b[0m\u001b[0mrun_task\u001b[0m\u001b[1;33m(\u001b[0m\u001b[1;33m)\u001b[0m\u001b[1;33m\u001b[0m\u001b[0m\n\u001b[0m\u001b[1;32m   1969\u001b[0m         \u001b[1;32melse\u001b[0m\u001b[1;33m:\u001b[0m\u001b[1;33m\u001b[0m\u001b[0m\n\u001b[1;32m   1970\u001b[0m             \u001b[1;32mfor\u001b[0m \u001b[0mtask\u001b[0m \u001b[1;32min\u001b[0m \u001b[0mself\u001b[0m\u001b[1;33m.\u001b[0m\u001b[0mtasks\u001b[0m\u001b[1;33m:\u001b[0m\u001b[1;33m\u001b[0m\u001b[0m\n",
      "\u001b[0;32md:\\dropbox\\0-gitrepos\\psychopy_ext\\psychopy_ext\\exp.pyc\u001b[0m in \u001b[0;36mrun_task\u001b[0;34m(self)\u001b[0m\n\u001b[1;32m   1016\u001b[0m             \u001b[1;31m# set TrialHandler only to the current block\u001b[0m\u001b[1;33m\u001b[0m\u001b[1;33m\u001b[0m\u001b[0m\n\u001b[1;32m   1017\u001b[0m             \u001b[0mself\u001b[0m\u001b[1;33m.\u001b[0m\u001b[0mset_TrialHandler\u001b[0m\u001b[1;33m(\u001b[0m\u001b[0mblock\u001b[0m\u001b[1;33m,\u001b[0m \u001b[0mtrialmap\u001b[0m\u001b[1;33m=\u001b[0m\u001b[0mtrialmap\u001b[0m\u001b[1;33m)\u001b[0m\u001b[1;33m\u001b[0m\u001b[0m\n\u001b[0;32m-> 1018\u001b[0;31m             \u001b[0mself\u001b[0m\u001b[1;33m.\u001b[0m\u001b[0mrun_block\u001b[0m\u001b[1;33m(\u001b[0m\u001b[1;33m)\u001b[0m\u001b[1;33m\u001b[0m\u001b[0m\n\u001b[0m\u001b[1;32m   1019\u001b[0m         \u001b[0mself\u001b[0m\u001b[1;33m.\u001b[0m\u001b[0mdatafile\u001b[0m\u001b[1;33m.\u001b[0m\u001b[0mclose\u001b[0m\u001b[1;33m(\u001b[0m\u001b[1;33m)\u001b[0m\u001b[1;33m\u001b[0m\u001b[0m\n\u001b[1;32m   1020\u001b[0m \u001b[1;33m\u001b[0m\u001b[0m\n",
      "\u001b[0;32md:\\dropbox\\0-gitrepos\\psychopy_ext\\psychopy_ext\\exp.pyc\u001b[0m in \u001b[0;36mrun_block\u001b[0;34m(self)\u001b[0m\n\u001b[1;32m   1083\u001b[0m         \u001b[1;32mfor\u001b[0m \u001b[0mthis_trial\u001b[0m \u001b[1;32min\u001b[0m \u001b[0mself\u001b[0m\u001b[1;33m:\u001b[0m\u001b[1;33m\u001b[0m\u001b[0m\n\u001b[1;32m   1084\u001b[0m             \u001b[0mself\u001b[0m\u001b[1;33m.\u001b[0m\u001b[0mthis_trial\u001b[0m \u001b[1;33m=\u001b[0m \u001b[0mthis_trial\u001b[0m\u001b[1;33m\u001b[0m\u001b[0m\n\u001b[0;32m-> 1085\u001b[0;31m             \u001b[0mself\u001b[0m\u001b[1;33m.\u001b[0m\u001b[0mrun_trial\u001b[0m\u001b[1;33m(\u001b[0m\u001b[1;33m)\u001b[0m\u001b[1;33m\u001b[0m\u001b[0m\n\u001b[0m\u001b[1;32m   1086\u001b[0m \u001b[1;33m\u001b[0m\u001b[0m\n\u001b[1;32m   1087\u001b[0m         \u001b[0mself\u001b[0m\u001b[1;33m.\u001b[0m\u001b[0mafter_block\u001b[0m\u001b[1;33m(\u001b[0m\u001b[1;33m)\u001b[0m\u001b[1;33m\u001b[0m\u001b[0m\n",
      "\u001b[0;32md:\\dropbox\\0-gitrepos\\psychopy_ext\\psychopy_ext\\exp.pyc\u001b[0m in \u001b[0;36mrun_trial\u001b[0;34m(self)\u001b[0m\n\u001b[1;32m   1142\u001b[0m             \u001b[0mself\u001b[0m\u001b[1;33m.\u001b[0m\u001b[0mall_keys\u001b[0m \u001b[1;33m+=\u001b[0m \u001b[1;33m[\u001b[0m\u001b[1;33m(\u001b[0m\u001b[0mself\u001b[0m\u001b[1;33m.\u001b[0m\u001b[0mthis_trial\u001b[0m\u001b[1;33m[\u001b[0m\u001b[1;34m'autoresp'\u001b[0m\u001b[1;33m]\u001b[0m\u001b[1;33m,\u001b[0m \u001b[0mself\u001b[0m\u001b[1;33m.\u001b[0m\u001b[0mthis_trial\u001b[0m\u001b[1;33m[\u001b[0m\u001b[1;34m'autort'\u001b[0m\u001b[1;33m]\u001b[0m\u001b[1;33m)\u001b[0m\u001b[1;33m]\u001b[0m\u001b[1;33m\u001b[0m\u001b[0m\n\u001b[1;32m   1143\u001b[0m \u001b[1;33m\u001b[0m\u001b[0m\n\u001b[0;32m-> 1144\u001b[0;31m         \u001b[0mself\u001b[0m\u001b[1;33m.\u001b[0m\u001b[0mpost_trial\u001b[0m\u001b[1;33m(\u001b[0m\u001b[1;33m)\u001b[0m\u001b[1;33m\u001b[0m\u001b[0m\n\u001b[0m\u001b[1;32m   1145\u001b[0m \u001b[1;33m\u001b[0m\u001b[0m\n\u001b[1;32m   1146\u001b[0m         \u001b[1;31m# correct timing if autorun\u001b[0m\u001b[1;33m\u001b[0m\u001b[1;33m\u001b[0m\u001b[0m\n",
      "\u001b[0;32md:\\dropbox\\0-gitrepos\\psychopy_ext\\psychopy_ext\\exp.pyc\u001b[0m in \u001b[0;36mpost_trial\u001b[0;34m(self)\u001b[0m\n\u001b[1;32m   1196\u001b[0m                 \u001b[0msubj_resp\u001b[0m \u001b[1;33m=\u001b[0m \u001b[0mthis_resp\u001b[0m\u001b[1;33m[\u001b[0m\u001b[1;36m2\u001b[0m\u001b[1;33m]\u001b[0m\u001b[1;33m\u001b[0m\u001b[0m\n\u001b[1;32m   1197\u001b[0m             \u001b[1;32melse\u001b[0m\u001b[1;33m:\u001b[0m\u001b[1;33m\u001b[0m\u001b[0m\n\u001b[0;32m-> 1198\u001b[0;31m                 \u001b[0msubj_resp\u001b[0m \u001b[1;33m=\u001b[0m \u001b[0mself\u001b[0m\u001b[1;33m.\u001b[0m\u001b[0mcomputer\u001b[0m\u001b[1;33m.\u001b[0m\u001b[0mvalid_responses\u001b[0m\u001b[1;33m[\u001b[0m\u001b[0mthis_resp\u001b[0m\u001b[1;33m[\u001b[0m\u001b[1;36m0\u001b[0m\u001b[1;33m]\u001b[0m\u001b[1;33m]\u001b[0m\u001b[1;33m\u001b[0m\u001b[0m\n\u001b[0m\u001b[1;32m   1199\u001b[0m             \u001b[0mself\u001b[0m\u001b[1;33m.\u001b[0m\u001b[0mthis_trial\u001b[0m\u001b[1;33m[\u001b[0m\u001b[1;34m'subj_resp'\u001b[0m\u001b[1;33m]\u001b[0m \u001b[1;33m=\u001b[0m \u001b[0msubj_resp\u001b[0m\u001b[1;33m\u001b[0m\u001b[0m\n\u001b[1;32m   1200\u001b[0m \u001b[1;33m\u001b[0m\u001b[0m\n",
      "\u001b[0;31mKeyError\u001b[0m: 'i'"
     ]
    }
   ],
   "source": [
    "Exp1(rp={'no_output':True, 'debug':True}).run()"
   ]
  }
 ],
 "metadata": {
  "anaconda-cloud": {},
  "kernelspec": {
   "display_name": "Python 2",
   "language": "python",
   "name": "python2"
  },
  "language_info": {
   "codemirror_mode": {
    "name": "ipython",
    "version": 2
   },
   "file_extension": ".py",
   "mimetype": "text/x-python",
   "name": "python",
   "nbconvert_exporter": "python",
   "pygments_lexer": "ipython2",
   "version": "2.7.12"
  },
  "nav_menu": {},
  "toc": {
   "navigate_menu": true,
   "number_sections": true,
   "sideBar": true,
   "threshold": 6,
   "toc_cell": false,
   "toc_section_display": "block",
   "toc_window_display": false
  }
 },
 "nbformat": 4,
 "nbformat_minor": 0
}
